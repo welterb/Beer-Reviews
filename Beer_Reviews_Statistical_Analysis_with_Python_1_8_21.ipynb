{
  "nbformat": 4,
  "nbformat_minor": 0,
  "metadata": {
    "colab": {
      "name": "Beer Reviews Statistical Analysis with Python 1.8.21",
      "provenance": [],
      "include_colab_link": true
    },
    "kernelspec": {
      "name": "python3",
      "display_name": "Python 3"
    }
  },
  "cells": [
    {
      "cell_type": "markdown",
      "metadata": {
        "id": "view-in-github",
        "colab_type": "text"
      },
      "source": [
        "<a href=\"https://colab.research.google.com/github/welterb/beer-reviews/blob/main/Beer_Reviews_Statistical_Analysis_with_Python_1_8_21.ipynb\" target=\"_parent\"><img src=\"https://colab.research.google.com/assets/colab-badge.svg\" alt=\"Open In Colab\"/></a>"
      ]
    },
    {
      "cell_type": "markdown",
      "metadata": {
        "id": "ZndMwNcOiV1P"
      },
      "source": [
        "# **Introduction**\r\n",
        "*   The selected data for exploration is Beer Reviews from Kaggle. This chosen data set will be explored to further understand what customers find most important in their beer. The beers are evaluted based on aroma, appearance, palate, and taste. Other recorded information in this dataset is the overall score and the alcohol-by-volume.\r\n",
        "*   Using multiple regression testing we can evalute all variables and establish how important they are to the end goal.\r\n",
        "\r\n",
        "\r\n",
        "*   Hypothesis:\r\n",
        "*   Ho: There is no significant difference between the overall review score and the underlying variables. (aroma, appearance, palate, and taste)\r\n",
        "*   Ha: There is a significant difference between the overall review score and the underlying variables.\r\n",
        "\r\n",
        "*   There is also investigation of the relationship between alcohol content of beer and the score they recieve.\r\n",
        "\r\n",
        "\r\n",
        "Following this investigation, I would expect this to be both valuable to manufacturers of beer and the consumer understanding what drives consumption.\r\n",
        "\r\n",
        "\r\n",
        "\r\n",
        "\r\n",
        "\r\n",
        "\r\n",
        "\r\n"
      ]
    },
    {
      "cell_type": "markdown",
      "metadata": {
        "id": "jLBxVMqgjoLv"
      },
      "source": [
        "# **Import Data**"
      ]
    },
    {
      "cell_type": "code",
      "metadata": {
        "colab": {
          "base_uri": "https://localhost:8080/"
        },
        "id": "MFBXvGFXWmVz",
        "outputId": "b2ee39af-59f3-4e5c-836a-0eb3dfa6772b"
      },
      "source": [
        "# import & alias modules necessary for exploring this data set\r\n",
        "import math\r\n",
        "import pandas as pd\r\n",
        "from scipy import stats\r\n",
        "from sklearn import linear_model\r\n",
        "import statsmodels.api as sm\r\n",
        "import seaborn as sns \r\n",
        "import matplotlib.pyplot as plt\r\n",
        "sns.set()"
      ],
      "execution_count": null,
      "outputs": [
        {
          "output_type": "stream",
          "text": [
            "/usr/local/lib/python3.6/dist-packages/statsmodels/tools/_testing.py:19: FutureWarning: pandas.util.testing is deprecated. Use the functions in the public API at pandas.testing instead.\n",
            "  import pandas.util.testing as tm\n"
          ],
          "name": "stderr"
        }
      ]
    },
    {
      "cell_type": "code",
      "metadata": {
        "colab": {
          "base_uri": "https://localhost:8080/"
        },
        "id": "AbKZ7FinvlzF",
        "outputId": "d58c099f-3756-46de-a12d-1c50f78136f4"
      },
      "source": [
        "#Mount Drive\r\n",
        "from google.colab import drive\r\n",
        "drive.mount('/content/gdrive')"
      ],
      "execution_count": null,
      "outputs": [
        {
          "output_type": "stream",
          "text": [
            "Mounted at /content/gdrive\n"
          ],
          "name": "stdout"
        }
      ]
    },
    {
      "cell_type": "code",
      "metadata": {
        "colab": {
          "base_uri": "https://localhost:8080/"
        },
        "id": "eHU5nFUbwNSv",
        "outputId": "6791e90a-bbff-4366-fa4b-581670d9a664"
      },
      "source": [
        "#read in data and get info \r\n",
        "beer_df = pd.read_csv(\"/content/gdrive/My Drive/Thinkful Course Uploads/Capstone 3/beer_reviews.csv\")\r\n",
        "beer_df.info()"
      ],
      "execution_count": null,
      "outputs": [
        {
          "output_type": "stream",
          "text": [
            "<class 'pandas.core.frame.DataFrame'>\n",
            "RangeIndex: 1586614 entries, 0 to 1586613\n",
            "Data columns (total 13 columns):\n",
            " #   Column              Non-Null Count    Dtype  \n",
            "---  ------              --------------    -----  \n",
            " 0   brewery_id          1586614 non-null  int64  \n",
            " 1   brewery_name        1586599 non-null  object \n",
            " 2   review_time         1586614 non-null  int64  \n",
            " 3   review_overall      1586614 non-null  float64\n",
            " 4   review_aroma        1586614 non-null  float64\n",
            " 5   review_appearance   1586614 non-null  float64\n",
            " 6   review_profilename  1586266 non-null  object \n",
            " 7   beer_style          1586614 non-null  object \n",
            " 8   review_palate       1586614 non-null  float64\n",
            " 9   review_taste        1586614 non-null  float64\n",
            " 10  beer_name           1586614 non-null  object \n",
            " 11  beer_abv            1518829 non-null  float64\n",
            " 12  beer_beerid         1586614 non-null  int64  \n",
            "dtypes: float64(6), int64(3), object(4)\n",
            "memory usage: 157.4+ MB\n"
          ],
          "name": "stdout"
        }
      ]
    },
    {
      "cell_type": "markdown",
      "metadata": {
        "id": "Xnwp-F6SWYV1"
      },
      "source": [
        "# **Explore Data**: The following gives a breakdown of the data and gathering the final dataframes for evaluating the relationship of the variables to overall score. As well as a filtered dataframe that can confirm some consistency in the final representation of the relationship using multiple regression."
      ]
    },
    {
      "cell_type": "code",
      "metadata": {
        "colab": {
          "base_uri": "https://localhost:8080/",
          "height": 339
        },
        "id": "4-1Mb8zuyC26",
        "outputId": "ae8e2676-bac1-470c-fdec-e7dc4202134e"
      },
      "source": [
        "#view and understand distribution of the overall review scores. Check for normal distribution.\r\n",
        "ax = sns.distplot(beer_df['review_overall'])"
      ],
      "execution_count": null,
      "outputs": [
        {
          "output_type": "stream",
          "text": [
            "/usr/local/lib/python3.6/dist-packages/seaborn/distributions.py:2551: FutureWarning: `distplot` is a deprecated function and will be removed in a future version. Please adapt your code to use either `displot` (a figure-level function with similar flexibility) or `histplot` (an axes-level function for histograms).\n",
            "  warnings.warn(msg, FutureWarning)\n"
          ],
          "name": "stderr"
        },
        {
          "output_type": "display_data",
          "data": {
            "image/png": "[encoded data removed]",
            "text/plain": [
              "<Figure size 432x288 with 1 Axes>"
            ]
          },
          "metadata": {
            "tags": []
          }
        }
      ]
    },
    {
      "cell_type": "code",
      "metadata": {
        "colab": {
          "base_uri": "https://localhost:8080/",
          "height": 339
        },
        "id": "vSv5W4_moRv8",
        "outputId": "2505e091-cb2e-47be-ac7a-ab5ce7c4adf2"
      },
      "source": [
        "#Create distribution plot of ABV to understand the values and where they typically sit.\r\n",
        "ax = sns.distplot(beer_df['beer_abv'])"
      ],
      "execution_count": null,
      "outputs": [
        {
          "output_type": "stream",
          "text": [
            "/usr/local/lib/python3.6/dist-packages/seaborn/distributions.py:2551: FutureWarning: `distplot` is a deprecated function and will be removed in a future version. Please adapt your code to use either `displot` (a figure-level function with similar flexibility) or `histplot` (an axes-level function for histograms).\n",
            "  warnings.warn(msg, FutureWarning)\n"
          ],
          "name": "stderr"
        },
        {
          "output_type": "display_data",
          "data": {
            "image/png": "[encoded data removed]",
            "text/plain": [
              "<Figure size 432x288 with 1 Axes>"
            ]
          },
          "metadata": {
            "tags": []
          }
        }
      ]
    },
    {
      "cell_type": "code",
      "metadata": {
        "colab": {
          "base_uri": "https://localhost:8080/",
          "height": 288
        },
        "id": "_WuThrjcyN8U",
        "outputId": "ccba39f6-b1d7-46ca-b538-b924fbfe4492"
      },
      "source": [
        "#descriptive stats on columns to understand what typical values look like. Values of reviews look fairly similar, it brings into question\r\n",
        "#if they are signicantly different from one another\r\n",
        "beer_df.describe()"
      ],
      "execution_count": null,
      "outputs": [
        {
          "output_type": "execute_result",
          "data": {
            "text/html": [
              "<div>\n",
              "<style scoped>\n",
              "    .dataframe tbody tr th:only-of-type {\n",
              "        vertical-align: middle;\n",
              "    }\n",
              "\n",
              "    .dataframe tbody tr th {\n",
              "        vertical-align: top;\n",
              "    }\n",
              "\n",
              "    .dataframe thead th {\n",
              "        text-align: right;\n",
              "    }\n",
              "</style>\n",
              "<table border=\"1\" class=\"dataframe\">\n",
              "  <thead>\n",
              "    <tr style=\"text-align: right;\">\n",
              "      <th></th>\n",
              "      <th>brewery_id</th>\n",
              "      <th>review_time</th>\n",
              "      <th>review_overall</th>\n",
              "      <th>review_aroma</th>\n",
              "      <th>review_appearance</th>\n",
              "      <th>review_palate</th>\n",
              "      <th>review_taste</th>\n",
              "      <th>beer_abv</th>\n",
              "      <th>beer_beerid</th>\n",
              "    </tr>\n",
              "  </thead>\n",
              "  <tbody>\n",
              "    <tr>\n",
              "      <th>count</th>\n",
              "      <td>1.586614e+06</td>\n",
              "      <td>1.586614e+06</td>\n",
              "      <td>1.586614e+06</td>\n",
              "      <td>1.586614e+06</td>\n",
              "      <td>1.586614e+06</td>\n",
              "      <td>1.586614e+06</td>\n",
              "      <td>1.586614e+06</td>\n",
              "      <td>1.518829e+06</td>\n",
              "      <td>1.586614e+06</td>\n",
              "    </tr>\n",
              "    <tr>\n",
              "      <th>mean</th>\n",
              "      <td>3.130099e+03</td>\n",
              "      <td>1.224089e+09</td>\n",
              "      <td>3.815581e+00</td>\n",
              "      <td>3.735636e+00</td>\n",
              "      <td>3.841642e+00</td>\n",
              "      <td>3.743701e+00</td>\n",
              "      <td>3.792860e+00</td>\n",
              "      <td>7.042387e+00</td>\n",
              "      <td>2.171279e+04</td>\n",
              "    </tr>\n",
              "    <tr>\n",
              "      <th>std</th>\n",
              "      <td>5.578104e+03</td>\n",
              "      <td>7.654427e+07</td>\n",
              "      <td>7.206219e-01</td>\n",
              "      <td>6.976167e-01</td>\n",
              "      <td>6.160928e-01</td>\n",
              "      <td>6.822184e-01</td>\n",
              "      <td>7.319696e-01</td>\n",
              "      <td>2.322526e+00</td>\n",
              "      <td>2.181834e+04</td>\n",
              "    </tr>\n",
              "    <tr>\n",
              "      <th>min</th>\n",
              "      <td>1.000000e+00</td>\n",
              "      <td>8.406720e+08</td>\n",
              "      <td>0.000000e+00</td>\n",
              "      <td>1.000000e+00</td>\n",
              "      <td>0.000000e+00</td>\n",
              "      <td>1.000000e+00</td>\n",
              "      <td>1.000000e+00</td>\n",
              "      <td>1.000000e-02</td>\n",
              "      <td>3.000000e+00</td>\n",
              "    </tr>\n",
              "    <tr>\n",
              "      <th>25%</th>\n",
              "      <td>1.430000e+02</td>\n",
              "      <td>1.173224e+09</td>\n",
              "      <td>3.500000e+00</td>\n",
              "      <td>3.500000e+00</td>\n",
              "      <td>3.500000e+00</td>\n",
              "      <td>3.500000e+00</td>\n",
              "      <td>3.500000e+00</td>\n",
              "      <td>5.200000e+00</td>\n",
              "      <td>1.717000e+03</td>\n",
              "    </tr>\n",
              "    <tr>\n",
              "      <th>50%</th>\n",
              "      <td>4.290000e+02</td>\n",
              "      <td>1.239203e+09</td>\n",
              "      <td>4.000000e+00</td>\n",
              "      <td>4.000000e+00</td>\n",
              "      <td>4.000000e+00</td>\n",
              "      <td>4.000000e+00</td>\n",
              "      <td>4.000000e+00</td>\n",
              "      <td>6.500000e+00</td>\n",
              "      <td>1.390600e+04</td>\n",
              "    </tr>\n",
              "    <tr>\n",
              "      <th>75%</th>\n",
              "      <td>2.372000e+03</td>\n",
              "      <td>1.288568e+09</td>\n",
              "      <td>4.500000e+00</td>\n",
              "      <td>4.000000e+00</td>\n",
              "      <td>4.000000e+00</td>\n",
              "      <td>4.000000e+00</td>\n",
              "      <td>4.500000e+00</td>\n",
              "      <td>8.500000e+00</td>\n",
              "      <td>3.944100e+04</td>\n",
              "    </tr>\n",
              "    <tr>\n",
              "      <th>max</th>\n",
              "      <td>2.800300e+04</td>\n",
              "      <td>1.326285e+09</td>\n",
              "      <td>5.000000e+00</td>\n",
              "      <td>5.000000e+00</td>\n",
              "      <td>5.000000e+00</td>\n",
              "      <td>5.000000e+00</td>\n",
              "      <td>5.000000e+00</td>\n",
              "      <td>5.770000e+01</td>\n",
              "      <td>7.731700e+04</td>\n",
              "    </tr>\n",
              "  </tbody>\n",
              "</table>\n",
              "</div>"
            ],
            "text/plain": [
              "         brewery_id   review_time  ...      beer_abv   beer_beerid\n",
              "count  1.586614e+06  1.586614e+06  ...  1.518829e+06  1.586614e+06\n",
              "mean   3.130099e+03  1.224089e+09  ...  7.042387e+00  2.171279e+04\n",
              "std    5.578104e+03  7.654427e+07  ...  2.322526e+00  2.181834e+04\n",
              "min    1.000000e+00  8.406720e+08  ...  1.000000e-02  3.000000e+00\n",
              "25%    1.430000e+02  1.173224e+09  ...  5.200000e+00  1.717000e+03\n",
              "50%    4.290000e+02  1.239203e+09  ...  6.500000e+00  1.390600e+04\n",
              "75%    2.372000e+03  1.288568e+09  ...  8.500000e+00  3.944100e+04\n",
              "max    2.800300e+04  1.326285e+09  ...  5.770000e+01  7.731700e+04\n",
              "\n",
              "[8 rows x 9 columns]"
            ]
          },
          "metadata": {
            "tags": []
          },
          "execution_count": 19
        }
      ]
    },
    {
      "cell_type": "code",
      "metadata": {
        "colab": {
          "base_uri": "https://localhost:8080/"
        },
        "id": "NVkh1OhIzWdP",
        "outputId": "3088eef5-d15b-4e21-8a50-d406e1ad44f6"
      },
      "source": [
        "#find number of records for each beers, noting a significant quantity of styles of beers.\r\n",
        "beer_df['beer_style'].value_counts()"
      ],
      "execution_count": null,
      "outputs": [
        {
          "output_type": "execute_result",
          "data": {
            "text/plain": [
              "American IPA                        117586\n",
              "American Double / Imperial IPA       85977\n",
              "American Pale Ale (APA)              63469\n",
              "Russian Imperial Stout               54129\n",
              "American Double / Imperial Stout     50705\n",
              "                                     ...  \n",
              "Gose                                   686\n",
              "Faro                                   609\n",
              "Roggenbier                             466\n",
              "Kvass                                  297\n",
              "Happoshu                               241\n",
              "Name: beer_style, Length: 104, dtype: int64"
            ]
          },
          "metadata": {
            "tags": []
          },
          "execution_count": 17
        }
      ]
    },
    {
      "cell_type": "code",
      "metadata": {
        "colab": {
          "base_uri": "https://localhost:8080/"
        },
        "id": "6XEHNfMuD83Z",
        "outputId": "a977e9d3-7091-4c7c-b1f8-6f9a8566c9e1"
      },
      "source": [
        "#Drop Null Values for use in Multiple Regression and Box Plot visualization\r\n",
        "beer_df_regression = beer_df.dropna()\r\n",
        "beer_df_regression.info()"
      ],
      "execution_count": null,
      "outputs": [
        {
          "output_type": "stream",
          "text": [
            "<class 'pandas.core.frame.DataFrame'>\n",
            "Int64Index: 1518478 entries, 0 to 1586613\n",
            "Data columns (total 13 columns):\n",
            " #   Column              Non-Null Count    Dtype  \n",
            "---  ------              --------------    -----  \n",
            " 0   brewery_id          1518478 non-null  int64  \n",
            " 1   brewery_name        1518478 non-null  object \n",
            " 2   review_time         1518478 non-null  int64  \n",
            " 3   review_overall      1518478 non-null  float64\n",
            " 4   review_aroma        1518478 non-null  float64\n",
            " 5   review_appearance   1518478 non-null  float64\n",
            " 6   review_profilename  1518478 non-null  object \n",
            " 7   beer_style          1518478 non-null  object \n",
            " 8   review_palate       1518478 non-null  float64\n",
            " 9   review_taste        1518478 non-null  float64\n",
            " 10  beer_name           1518478 non-null  object \n",
            " 11  beer_abv            1518478 non-null  float64\n",
            " 12  beer_beerid         1518478 non-null  int64  \n",
            "dtypes: float64(6), int64(3), object(4)\n",
            "memory usage: 162.2+ MB\n"
          ],
          "name": "stdout"
        }
      ]
    },
    {
      "cell_type": "code",
      "metadata": {
        "colab": {
          "base_uri": "https://localhost:8080/",
          "height": 468
        },
        "id": "r6WMEbRWQAqi",
        "outputId": "89b2d550-4cc7-47c1-8185-bef049d973ea"
      },
      "source": [
        "#Make adjusted DF for box plot by using melt function\r\n",
        "box_df = beer_df_regression.drop(columns=[\"brewery_id\",\"brewery_name\",\"review_time\",\"review_profilename\",\"beer_style\",\"beer_name\",\"beer_beerid\",\"beer_abv\"])\r\n",
        "\r\n",
        "#Box and Whisker Plot for visual comparison of review scores\r\n",
        "ax = sns.boxplot(x=\"variable\", y=\"value\", data=pd.melt(box_df))\r\n",
        "ax.set_xticklabels(ax.get_xticklabels(),rotation=90)\r\n"
      ],
      "execution_count": null,
      "outputs": [
        {
          "output_type": "execute_result",
          "data": {
            "text/plain": [
              "[Text(0, 0, 'review_overall'),\n",
              " Text(0, 0, 'review_aroma'),\n",
              " Text(0, 0, 'review_appearance'),\n",
              " Text(0, 0, 'review_palate'),\n",
              " Text(0, 0, 'review_taste')]"
            ]
          },
          "metadata": {
            "tags": []
          },
          "execution_count": 11
        },
        {
          "output_type": "display_data",
          "data": {
            "image/png": "[encoded data removed]",
            "text/plain": [
              "<Figure size 432x288 with 1 Axes>"
            ]
          },
          "metadata": {
            "tags": []
          }
        }
      ]
    },
    {
      "cell_type": "markdown",
      "metadata": {
        "id": "fMK0E4QzrwNM"
      },
      "source": [
        "The box plot of the relationship shows that the overall review typically has a bit of a higher score than the aroma, appearance, and palate of the beer. However, it is relatively in line with the taste which could indicate that taste has a higher impact on review score."
      ]
    },
    {
      "cell_type": "code",
      "metadata": {
        "colab": {
          "base_uri": "https://localhost:8080/"
        },
        "id": "Qq5SMXbbEVOM",
        "outputId": "a2321eeb-a76d-46ed-88a0-3a178abc6cf0"
      },
      "source": [
        "#Add counts of Style for filterting beer_df\r\n",
        "beer_df_filtered = beer_df_regression\r\n",
        "df2 = pd.DataFrame(beer_df_filtered['beer_style'].value_counts())\r\n",
        "df2.reset_index(inplace=True)\r\n",
        "df2.columns = ['beer_style','style_counts']\r\n",
        "beer_df_filtered = beer_df_filtered.merge(df2, on='beer_style')\r\n",
        "beer_df_filtered.info() "
      ],
      "execution_count": null,
      "outputs": [
        {
          "output_type": "stream",
          "text": [
            "<class 'pandas.core.frame.DataFrame'>\n",
            "Int64Index: 1518478 entries, 0 to 1518477\n",
            "Data columns (total 14 columns):\n",
            " #   Column              Non-Null Count    Dtype  \n",
            "---  ------              --------------    -----  \n",
            " 0   brewery_id          1518478 non-null  int64  \n",
            " 1   brewery_name        1518478 non-null  object \n",
            " 2   review_time         1518478 non-null  int64  \n",
            " 3   review_overall      1518478 non-null  float64\n",
            " 4   review_aroma        1518478 non-null  float64\n",
            " 5   review_appearance   1518478 non-null  float64\n",
            " 6   review_profilename  1518478 non-null  object \n",
            " 7   beer_style          1518478 non-null  object \n",
            " 8   review_palate       1518478 non-null  float64\n",
            " 9   review_taste        1518478 non-null  float64\n",
            " 10  beer_name           1518478 non-null  object \n",
            " 11  beer_abv            1518478 non-null  float64\n",
            " 12  beer_beerid         1518478 non-null  int64  \n",
            " 13  style_counts        1518478 non-null  int64  \n",
            "dtypes: float64(6), int64(4), object(4)\n",
            "memory usage: 173.8+ MB\n"
          ],
          "name": "stdout"
        }
      ]
    },
    {
      "cell_type": "code",
      "metadata": {
        "colab": {
          "base_uri": "https://localhost:8080/"
        },
        "id": "R3a-2pH7RiCz",
        "outputId": "7dda3fee-3ad8-479a-fedc-d898cb546ea2"
      },
      "source": [
        "#Identify top 10 highest quantitiy of reviews on beer styles\r\n",
        "s = beer_df_filtered['beer_style'].value_counts()\r\n",
        "s.nlargest(10)"
      ],
      "execution_count": null,
      "outputs": [
        {
          "output_type": "execute_result",
          "data": {
            "text/plain": [
              "American IPA                        113144\n",
              "American Double / Imperial IPA       85105\n",
              "American Pale Ale (APA)              58072\n",
              "Russian Imperial Stout               53424\n",
              "American Double / Imperial Stout     50137\n",
              "American Porter                      46647\n",
              "American Amber / Red Ale             41731\n",
              "Belgian Strong Dark Ale              37498\n",
              "Fruit / Vegetable Beer               31983\n",
              "American Strong Ale                  31350\n",
              "Name: beer_style, dtype: int64"
            ]
          },
          "metadata": {
            "tags": []
          },
          "execution_count": 13
        }
      ]
    },
    {
      "cell_type": "code",
      "metadata": {
        "colab": {
          "base_uri": "https://localhost:8080/"
        },
        "id": "_Nhn3bw4SwHU",
        "outputId": "fa548ae3-44e9-45a7-9cdf-d0d546c6acad"
      },
      "source": [
        "#Remove beers with style counts less than 31350 beers to achieve top 10 styles\r\n",
        "beer_df_top = beer_df_filtered[beer_df_filtered.style_counts>=31350]\r\n",
        "beer_df_top.info()"
      ],
      "execution_count": null,
      "outputs": [
        {
          "output_type": "stream",
          "text": [
            "<class 'pandas.core.frame.DataFrame'>\n",
            "Int64Index: 549091 entries, 57417 to 832147\n",
            "Data columns (total 14 columns):\n",
            " #   Column              Non-Null Count   Dtype  \n",
            "---  ------              --------------   -----  \n",
            " 0   brewery_id          549091 non-null  int64  \n",
            " 1   brewery_name        549091 non-null  object \n",
            " 2   review_time         549091 non-null  int64  \n",
            " 3   review_overall      549091 non-null  float64\n",
            " 4   review_aroma        549091 non-null  float64\n",
            " 5   review_appearance   549091 non-null  float64\n",
            " 6   review_profilename  549091 non-null  object \n",
            " 7   beer_style          549091 non-null  object \n",
            " 8   review_palate       549091 non-null  float64\n",
            " 9   review_taste        549091 non-null  float64\n",
            " 10  beer_name           549091 non-null  object \n",
            " 11  beer_abv            549091 non-null  float64\n",
            " 12  beer_beerid         549091 non-null  int64  \n",
            " 13  style_counts        549091 non-null  int64  \n",
            "dtypes: float64(6), int64(4), object(4)\n",
            "memory usage: 62.8+ MB\n"
          ],
          "name": "stdout"
        }
      ]
    },
    {
      "cell_type": "code",
      "metadata": {
        "colab": {
          "base_uri": "https://localhost:8080/"
        },
        "id": "MnQoMKmHWiWI",
        "outputId": "f164b229-adde-4e53-b645-a7a942ac7cc4"
      },
      "source": [
        "#Show counts to verify integrity of data\r\n",
        "s = beer_df_top['beer_style'].value_counts()\r\n",
        "s.nlargest(10)"
      ],
      "execution_count": null,
      "outputs": [
        {
          "output_type": "execute_result",
          "data": {
            "text/plain": [
              "American IPA                        113144\n",
              "American Double / Imperial IPA       85105\n",
              "American Pale Ale (APA)              58072\n",
              "Russian Imperial Stout               53424\n",
              "American Double / Imperial Stout     50137\n",
              "American Porter                      46647\n",
              "American Amber / Red Ale             41731\n",
              "Belgian Strong Dark Ale              37498\n",
              "Fruit / Vegetable Beer               31983\n",
              "American Strong Ale                  31350\n",
              "Name: beer_style, dtype: int64"
            ]
          },
          "metadata": {
            "tags": []
          },
          "execution_count": 15
        }
      ]
    },
    {
      "cell_type": "markdown",
      "metadata": {
        "id": "mWfXhnh3YcYw"
      },
      "source": [
        "Identify and remove breweries that are not top for reviews on these styles of beers."
      ]
    },
    {
      "cell_type": "code",
      "metadata": {
        "colab": {
          "base_uri": "https://localhost:8080/"
        },
        "id": "SjI3FiNbS7wD",
        "outputId": "164f5fa9-7703-410f-ed8f-7393257f5a60"
      },
      "source": [
        "#Preparing dataframe to compare top 10 beers in the top 15 breweries.\r\n",
        "df2 = pd.DataFrame(beer_df_filtered['brewery_name'].value_counts())\r\n",
        "df2.reset_index(inplace=True)\r\n",
        "df2.columns = ['brewery_name','brewery_counts']\r\n",
        "beer_df_top = beer_df_top.merge(df2, on='brewery_name')\r\n",
        "beer_df_top.info()\r\n"
      ],
      "execution_count": null,
      "outputs": [
        {
          "output_type": "stream",
          "text": [
            "<class 'pandas.core.frame.DataFrame'>\n",
            "Int64Index: 549091 entries, 0 to 549090\n",
            "Data columns (total 15 columns):\n",
            " #   Column              Non-Null Count   Dtype  \n",
            "---  ------              --------------   -----  \n",
            " 0   brewery_id          549091 non-null  int64  \n",
            " 1   brewery_name        549091 non-null  object \n",
            " 2   review_time         549091 non-null  int64  \n",
            " 3   review_overall      549091 non-null  float64\n",
            " 4   review_aroma        549091 non-null  float64\n",
            " 5   review_appearance   549091 non-null  float64\n",
            " 6   review_profilename  549091 non-null  object \n",
            " 7   beer_style          549091 non-null  object \n",
            " 8   review_palate       549091 non-null  float64\n",
            " 9   review_taste        549091 non-null  float64\n",
            " 10  beer_name           549091 non-null  object \n",
            " 11  beer_abv            549091 non-null  float64\n",
            " 12  beer_beerid         549091 non-null  int64  \n",
            " 13  style_counts        549091 non-null  int64  \n",
            " 14  brewery_counts      549091 non-null  int64  \n",
            "dtypes: float64(6), int64(5), object(4)\n",
            "memory usage: 67.0+ MB\n"
          ],
          "name": "stdout"
        }
      ]
    },
    {
      "cell_type": "code",
      "metadata": {
        "colab": {
          "base_uri": "https://localhost:8080/"
        },
        "id": "YasY1lrLUt3I",
        "outputId": "c4b39525-b0b7-4ada-b998-2a520462fb56"
      },
      "source": [
        "#Identify top 15 highest quantitiy of reviews\r\n",
        "s = beer_df_top['brewery_name'].value_counts()\r\n",
        "s.nlargest(15)"
      ],
      "execution_count": null,
      "outputs": [
        {
          "output_type": "execute_result",
          "data": {
            "text/plain": [
              "Stone Brewing Co.                     23867\n",
              "Dogfish Head Brewery                  18698\n",
              "Sierra Nevada Brewing Co.             16102\n",
              "Bell's Brewery, Inc.                  13425\n",
              "Founders Brewing Company              13156\n",
              "Lagunitas Brewing Company             12683\n",
              "Southern Tier Brewing Company         10155\n",
              "Rogue Ales                            10112\n",
              "Great Divide Brewing Company           9688\n",
              "Boston Beer Company (Samuel Adams)     8540\n",
              "Three Floyds Brewing Co. & Brewpub     7812\n",
              "Avery Brewing Company                  7446\n",
              "Victory Brewing Company                7439\n",
              "Deschutes Brewery                      6861\n",
              "Unibroue                               6521\n",
              "Name: brewery_name, dtype: int64"
            ]
          },
          "metadata": {
            "tags": []
          },
          "execution_count": 17
        }
      ]
    },
    {
      "cell_type": "code",
      "metadata": {
        "colab": {
          "base_uri": "https://localhost:8080/"
        },
        "id": "EZkOR3XgU2RZ",
        "outputId": "a14bc65d-c0d1-4436-83b8-d3f2d19cb2a1"
      },
      "source": [
        "#Filter out bottom breweries by removing breweries with less than 6521 reviews, data is now prepared for further exploration and evaluation.\r\n",
        "beer_df_top = beer_df_top[beer_df_top.brewery_counts>=6521]\r\n",
        "beer_df_top.info()"
      ],
      "execution_count": null,
      "outputs": [
        {
          "output_type": "stream",
          "text": [
            "<class 'pandas.core.frame.DataFrame'>\n",
            "Int64Index: 278966 entries, 4124 to 544797\n",
            "Data columns (total 15 columns):\n",
            " #   Column              Non-Null Count   Dtype  \n",
            "---  ------              --------------   -----  \n",
            " 0   brewery_id          278966 non-null  int64  \n",
            " 1   brewery_name        278966 non-null  object \n",
            " 2   review_time         278966 non-null  int64  \n",
            " 3   review_overall      278966 non-null  float64\n",
            " 4   review_aroma        278966 non-null  float64\n",
            " 5   review_appearance   278966 non-null  float64\n",
            " 6   review_profilename  278966 non-null  object \n",
            " 7   beer_style          278966 non-null  object \n",
            " 8   review_palate       278966 non-null  float64\n",
            " 9   review_taste        278966 non-null  float64\n",
            " 10  beer_name           278966 non-null  object \n",
            " 11  beer_abv            278966 non-null  float64\n",
            " 12  beer_beerid         278966 non-null  int64  \n",
            " 13  style_counts        278966 non-null  int64  \n",
            " 14  brewery_counts      278966 non-null  int64  \n",
            "dtypes: float64(6), int64(5), object(4)\n",
            "memory usage: 34.1+ MB\n"
          ],
          "name": "stdout"
        }
      ]
    },
    {
      "cell_type": "code",
      "metadata": {
        "colab": {
          "base_uri": "https://localhost:8080/",
          "height": 474
        },
        "id": "I8GSAj_BZfGW",
        "outputId": "bb816641-d85d-443e-a454-771b4203f841"
      },
      "source": [
        "#Make adjusted DF for box plot by using melt function\r\n",
        "box2_df = beer_df_top.drop(columns=[\"brewery_id\",\"brewery_name\",\"review_time\",\"review_profilename\",\"beer_style\",\"beer_name\",\"beer_beerid\",\"beer_abv\",\"brewery_counts\",\"style_counts\"])\r\n",
        "\r\n",
        "#Box and Whisker Plot for visual comparison of review scores\r\n",
        "ax = sns.boxplot(x=\"variable\", y=\"value\", data=pd.melt(box2_df))\r\n",
        "ax.set_xticklabels(ax.get_xticklabels(),rotation=90)\r\n"
      ],
      "execution_count": null,
      "outputs": [
        {
          "output_type": "execute_result",
          "data": {
            "text/plain": [
              "[Text(0, 0, 'review_overall'),\n",
              " Text(0, 0, 'review_aroma'),\n",
              " Text(0, 0, 'review_appearance'),\n",
              " Text(0, 0, 'review_palate'),\n",
              " Text(0, 0, 'review_taste')]"
            ]
          },
          "metadata": {
            "tags": []
          },
          "execution_count": 38
        },
        {
          "output_type": "display_data",
          "data": {
            "image/png": "[encoded data removed]",
            "text/plain": [
              "<Figure size 432x288 with 1 Axes>"
            ]
          },
          "metadata": {
            "tags": [],
            "needs_background": "light"
          }
        }
      ]
    },
    {
      "cell_type": "markdown",
      "metadata": {
        "id": "CFiek9pbP0rX"
      },
      "source": [
        "*   This box plot shows a minorly different story than the one on all beers, where the review scores for aroma and palate are a bit more consistent with overall score but the tighter spread of data on taste shows that scores are typically higher on taste than they were in the original data set.\r\n",
        "*   To further evalute a multiple regression fit test is conducted on both data frames to give a model to tell us what is happening."
      ]
    },
    {
      "cell_type": "markdown",
      "metadata": {
        "id": "Ib3p17mCXtpU"
      },
      "source": [
        "# **Multiple Linear Regression**: Overall Beer Reviews\r\n",
        "*   Now that exploration is complete using multiple regression we are able to evaluate the relationship between variables and create a regression fit. The coefficients will also tell us what is most important to the reviewer when they are reviewing beers.\r\n",
        "\r\n",
        "\r\n"
      ]
    },
    {
      "cell_type": "code",
      "metadata": {
        "colab": {
          "base_uri": "https://localhost:8080/"
        },
        "id": "keYS_nBwYCV_",
        "outputId": "2f1fa58b-d410-43d9-9756-f6c06d4e4379"
      },
      "source": [
        "#Establish variables, Overall Review becomes the Y, other values are X in Multiple Regression\r\n",
        "X = beer_df_regression[['review_aroma','review_appearance','review_palate','review_taste','beer_abv']]\r\n",
        "Y = beer_df_regression['review_overall']\r\n",
        "\r\n",
        "#Show stats model of Multiple Regression\r\n",
        "regr = linear_model.LinearRegression()\r\n",
        "regr.fit(X, Y)\r\n",
        "\r\n",
        "print('Intercept: \\n', regr.intercept_)\r\n",
        "print('Coefficients: \\n', regr.coef_)"
      ],
      "execution_count": null,
      "outputs": [
        {
          "output_type": "stream",
          "text": [
            "Intercept: \n",
            " 0.5194712380280908\n",
            "Coefficients: \n",
            " [ 0.07685535  0.04795769  0.27068945  0.55412886 -0.0414845 ]\n"
          ],
          "name": "stdout"
        }
      ]
    },
    {
      "cell_type": "markdown",
      "metadata": {
        "id": "luq35oi3FAP4"
      },
      "source": [
        "Linear Regression Line\r\n",
        "*   Y = 0.519 + 0.077(review_aroma) + 0.048(review_appearance) + 0.27(review_palate) + 0.55(review_taste) -0.042(beer_abv)\r\n",
        "\r\n",
        "*   This is the regression line that will tell us that the taste is the most important to the reviewer as its coefficient is multiplied by the highest value of 0.55.\r\n",
        "*   ABV has a negative effect on score. With most beers sitting below 10% abv it has a lesser effect on overall score than a beer that recieves a review on the taste of 1.\r\n",
        "\r\n",
        "\r\n",
        "\r\n"
      ]
    },
    {
      "cell_type": "code",
      "metadata": {
        "colab": {
          "base_uri": "https://localhost:8080/"
        },
        "id": "Ufn_i1TDEqmj",
        "outputId": "6ca7ceef-98c8-431e-da82-079c536fbc4e"
      },
      "source": [
        "#Statistical analysis using statsmodels to find the p-values of these relationships.\r\n",
        "X = sm.add_constant(X) # adding a constant\r\n",
        " \r\n",
        "model = sm.OLS(Y, X).fit()\r\n",
        "predictions = model.predict(X) \r\n",
        " \r\n",
        "print_model = model.summary()\r\n",
        "print(print_model)"
      ],
      "execution_count": null,
      "outputs": [
        {
          "output_type": "stream",
          "text": [
            "                            OLS Regression Results                            \n",
            "==============================================================================\n",
            "Dep. Variable:         review_overall   R-squared:                       0.670\n",
            "Model:                            OLS   Adj. R-squared:                  0.670\n",
            "Method:                 Least Squares   F-statistic:                 6.161e+05\n",
            "Date:                Fri, 08 Jan 2021   Prob (F-statistic):               0.00\n",
            "Time:                        13:46:54   Log-Likelihood:            -8.0866e+05\n",
            "No. Observations:             1518478   AIC:                         1.617e+06\n",
            "Df Residuals:                 1518472   BIC:                         1.617e+06\n",
            "Df Model:                           5                                         \n",
            "Covariance Type:            nonrobust                                         \n",
            "=====================================================================================\n",
            "                        coef    std err          t      P>|t|      [0.025      0.975]\n",
            "-------------------------------------------------------------------------------------\n",
            "const                 0.5195      0.002    222.729      0.000       0.515       0.524\n",
            "review_aroma          0.0769      0.001    105.034      0.000       0.075       0.078\n",
            "review_appearance     0.0480      0.001     68.329      0.000       0.047       0.049\n",
            "review_palate         0.2707      0.001    355.160      0.000       0.269       0.272\n",
            "review_taste          0.5541      0.001    712.578      0.000       0.553       0.556\n",
            "beer_abv             -0.0415      0.000   -269.366      0.000      -0.042      -0.041\n",
            "==============================================================================\n",
            "Omnibus:                    77595.557   Durbin-Watson:                   1.862\n",
            "Prob(Omnibus):                  0.000   Jarque-Bera (JB):           302682.049\n",
            "Skew:                          -0.030   Prob(JB):                         0.00\n",
            "Kurtosis:                       5.186   Cond. No.                         74.7\n",
            "==============================================================================\n",
            "\n",
            "Warnings:\n",
            "[1] Standard Errors assume that the covariance matrix of the errors is correctly specified.\n"
          ],
          "name": "stdout"
        }
      ]
    },
    {
      "cell_type": "markdown",
      "metadata": {
        "id": "XbxOc5f9g5kv"
      },
      "source": [
        "**Conclusion of Multiple Regression on All Beers**\r\n",
        "*   The data shows that there are extremely small p-values and since they are smaller than 0.05 we can reject the null hypothesis that there is no significant difference between them. \r\n",
        "*   Each varaiable has a significant impact on the overall score but some have a smaller impact than others. Data shows that there is more emphasis on the beer having a good palate and taste than the aroma or appearance. \r\n",
        "\r\n",
        "*   To further investigate lets look at the dataframe that has been filtered down into the Top Beers and the Top Breweries that brew these beers.\r\n",
        "\r\n",
        "\r\n",
        "\r\n"
      ]
    },
    {
      "cell_type": "markdown",
      "metadata": {
        "id": "_-92RUh8YuLN"
      },
      "source": [
        "# **Multiple Linear Regression**: Top Beers/Breweries"
      ]
    },
    {
      "cell_type": "code",
      "metadata": {
        "colab": {
          "base_uri": "https://localhost:8080/"
        },
        "id": "5DVYRaBcZBnh",
        "outputId": "b718f055-267d-4a16-c7a2-b88df180fa2a"
      },
      "source": [
        "#Establish variables, Overall Review becomes the y, other values are X in Multiple Regression, using the same variables as the multiple regression fit of all beers.\r\n",
        "X = beer_df_top[['review_aroma','review_appearance','review_palate','review_taste','beer_abv']]\r\n",
        "Y = beer_df_top['review_overall']\r\n",
        "\r\n",
        "#Show stats model of Multiple Regression\r\n",
        "regr = linear_model.LinearRegression()\r\n",
        "regr.fit(X, Y)\r\n",
        "\r\n",
        "print('Intercept: \\n', regr.intercept_)\r\n",
        "print('Coefficients: \\n', regr.coef_)"
      ],
      "execution_count": null,
      "outputs": [
        {
          "output_type": "stream",
          "text": [
            "Intercept: \n",
            " 0.43247187056847247\n",
            "Coefficients: \n",
            " [ 0.09443225  0.06626044  0.26495691  0.54125503 -0.04089531]\n"
          ],
          "name": "stdout"
        }
      ]
    },
    {
      "cell_type": "markdown",
      "metadata": {
        "id": "0fh3MW69bmxU"
      },
      "source": [
        "Linear Regression Line for Top Beers/Breweries\r\n",
        "*   Y = 0.432 + 0.094(review_aroma) + 0.066(review_appearance) + 0.26(review_palate) + 0.54(review_taste) -0.041(beer_abv)\r\n",
        "\r\n",
        "All Beers\r\n",
        "*   Y = 0.519 + 0.077(review_aroma) + 0.048(review_appearance) + 0.27(review_palate) + 0.55(review_taste) -0.042(beer_abv)\r\n",
        "*   There are very small differences between the two fits. Some more emphasis is set on the aroma and appearance but the most important part for the reviewer is the taste and palate.\r\n",
        "\r\n",
        "\r\n",
        "\r\n"
      ]
    },
    {
      "cell_type": "code",
      "metadata": {
        "colab": {
          "base_uri": "https://localhost:8080/"
        },
        "id": "4mt-mfTeZW_i",
        "outputId": "2be968de-0ed7-4c5e-c403-770ecc5d9034"
      },
      "source": [
        "#Statistical analysis using statsmodels to find the p-values of the relationship between the variables\r\n",
        "X = sm.add_constant(X) # adding a constant\r\n",
        " \r\n",
        "model = sm.OLS(Y, X).fit()\r\n",
        "predictions = model.predict(X) \r\n",
        " \r\n",
        "print_model = model.summary()\r\n",
        "print(print_model)"
      ],
      "execution_count": null,
      "outputs": [
        {
          "output_type": "stream",
          "text": [
            "                            OLS Regression Results                            \n",
            "==============================================================================\n",
            "Dep. Variable:         review_overall   R-squared:                       0.613\n",
            "Model:                            OLS   Adj. R-squared:                  0.613\n",
            "Method:                 Least Squares   F-statistic:                 8.855e+04\n",
            "Date:                Fri, 08 Jan 2021   Prob (F-statistic):               0.00\n",
            "Time:                        14:27:56   Log-Likelihood:            -1.4481e+05\n",
            "No. Observations:              278966   AIC:                         2.896e+05\n",
            "Df Residuals:                  278960   BIC:                         2.897e+05\n",
            "Df Model:                           5                                         \n",
            "Covariance Type:            nonrobust                                         \n",
            "=====================================================================================\n",
            "                        coef    std err          t      P>|t|      [0.025      0.975]\n",
            "-------------------------------------------------------------------------------------\n",
            "const                 0.4325      0.007     61.439      0.000       0.419       0.446\n",
            "review_aroma          0.0944      0.002     54.245      0.000       0.091       0.098\n",
            "review_appearance     0.0663      0.002     37.839      0.000       0.063       0.070\n",
            "review_palate         0.2650      0.002    145.531      0.000       0.261       0.269\n",
            "review_taste          0.5413      0.002    298.266      0.000       0.538       0.545\n",
            "beer_abv             -0.0409      0.000   -139.079      0.000      -0.041      -0.040\n",
            "==============================================================================\n",
            "Omnibus:                    19347.418   Durbin-Watson:                   1.864\n",
            "Prob(Omnibus):                  0.000   Jarque-Bera (JB):            48151.223\n",
            "Skew:                          -0.418   Prob(JB):                         0.00\n",
            "Kurtosis:                       4.855   Cond. No.                         109.\n",
            "==============================================================================\n",
            "\n",
            "Warnings:\n",
            "[1] Standard Errors assume that the covariance matrix of the errors is correctly specified.\n"
          ],
          "name": "stdout"
        }
      ]
    },
    {
      "cell_type": "markdown",
      "metadata": {
        "id": "kgCv22JNgtAJ"
      },
      "source": [
        "**Findings from Multiple Regression of Filtered DataFrame**\r\n",
        "*   As seen above the regression fit line is very similar to the original value which shows some consistency as ~1.2 million lines of data were filtered off by selecting the most popular items.\r\n",
        "*   These variables are still significantly impactful on the overall score and the ABV maintained a negative relationship to the overall score.\r\n",
        "\r\n"
      ]
    },
    {
      "cell_type": "markdown",
      "metadata": {
        "id": "cm1jrMkVqqPz"
      },
      "source": [
        "# **Conclusion**\r\n",
        "\r\n",
        "\r\n",
        "*   From evaluating and exploring the data using Multiple Regression we are able to reject all null hypothesis presented as we saw very low p-values in testing. This tells us that they have an impact on the overall score. \r\n",
        "*   The overall score is most impacted by the taste of the beer, as well as some negative influence from the ABV.\r\n",
        "\r\n",
        "#**Recommendation**\r\n",
        "*   My recommendation for consumers and beer crafters is to make sure you have a great balance of taste and never over do the amount of alcohol that is in a beer. When you focus on a beer that tastes good and has the appropriate amount of alcohol you have created or are currently enjoying a real winner!\r\n",
        "\r\n",
        "\r\n",
        "\r\n",
        "\r\n",
        "\r\n",
        "\r\n"
      ]
    }
  ]
}